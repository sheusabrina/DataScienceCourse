{
 "cells": [
  {
   "cell_type": "code",
   "execution_count": 1,
   "metadata": {},
   "outputs": [],
   "source": [
    "from IPython.core.interactiveshell import InteractiveShell\n",
    "InteractiveShell.ast_node_interactivity = \"all\""
   ]
  },
  {
   "cell_type": "code",
   "execution_count": 2,
   "metadata": {},
   "outputs": [
    {
     "data": {
      "text/plain": [
       "\"\\nThe core data type in Numpy is the ndarray, which enables fast and space-efficient multidimensional array processing.\\nNote: This notebook is adapted from chapter 4 Python for Data Analysis by Wes McKinney and O'Reilly publishing. NumPy has many, \\nmany features that won't be covered here. The following snippets are just to illustrate basic data types and operations within\\nnumpy.\\n\\nAnother good resource for learning more about ndarrays is here:\\nhttp://docs.scipy.org/doc/numpy/reference/arrays.html\\n\""
      ]
     },
     "execution_count": 2,
     "metadata": {},
     "output_type": "execute_result"
    },
    {
     "data": {
      "text/plain": [
       "array([0, 1, 2])"
      ]
     },
     "execution_count": 2,
     "metadata": {},
     "output_type": "execute_result"
    },
    {
     "data": {
      "text/plain": [
       "array([[0, 1, 2],\n",
       "       [3, 4, 5]])"
      ]
     },
     "execution_count": 2,
     "metadata": {},
     "output_type": "execute_result"
    }
   ],
   "source": [
    "'''\n",
    "The core data type in Numpy is the ndarray, which enables fast and space-efficient multidimensional array processing.\n",
    "Note: This notebook is adapted from chapter 4 Python for Data Analysis by Wes McKinney and O'Reilly publishing. NumPy has many, \n",
    "many features that won't be covered here. The following snippets are just to illustrate basic data types and operations within\n",
    "numpy.\n",
    "\n",
    "Another good resource for learning more about ndarrays is here:\n",
    "http://docs.scipy.org/doc/numpy/reference/arrays.html\n",
    "'''\n",
    "\n",
    "#First, import NumPy\n",
    "import numpy as np\n",
    "\n",
    "#It is easy to create Nx1 and NxM arrays from standard Python lists\n",
    "l1 = [0,1,2]\n",
    "l2 = [3,4,5]\n",
    "\n",
    "nd1 = np.array(l1)\n",
    "nd2 = np.array([l1,  l2])\n",
    "nd1\n",
    "nd2"
   ]
  },
  {
   "cell_type": "code",
   "execution_count": 3,
   "metadata": {},
   "outputs": [
    {
     "name": "stdout",
     "output_type": "stream",
     "text": [
      "The ndarray has dimension n=3 and m=1\n",
      "The ndarray has elements of type=int64\n",
      "The ndarray has dimension n=2 and m=3\n",
      "The ndarray has elements of type=int64\n"
     ]
    }
   ],
   "source": [
    "#Now, we can get ask for some basic info to describe the ndarray\n",
    "def desc_ndarray(nd):\n",
    "    try:\n",
    "        print(\"The ndarray has dimension n=%s and m=%s\" % (nd.shape[0],nd.shape[1]))\n",
    "    except:\n",
    "        print(\"The ndarray has dimension n=%s and m=1\" % nd.shape[0])\n",
    "    print(\"The ndarray has elements of type=%s\" % nd.dtype)\n",
    "\n",
    "desc_ndarray(nd1)\n",
    "\n",
    "desc_ndarray(nd2)\n",
    "\n"
   ]
  },
  {
   "cell_type": "code",
   "execution_count": 3,
   "metadata": {},
   "outputs": [
    {
     "data": {
      "text/plain": [
       "[array([0., 0., 0., 0.]),\n",
       " array([1., 1., 1., 1.]),\n",
       " array([ 0.0030948 , -0.26996601, -1.24398329, -1.70177842])]"
      ]
     },
     "execution_count": 3,
     "metadata": {},
     "output_type": "execute_result"
    }
   ],
   "source": [
    "#There are short cuts for creating certain frequently used special ndarrays, i.e.,\n",
    "\n",
    "k=4\n",
    "\n",
    "#1. an ndarray of all zeros\n",
    "zero = np.zeros(k)\n",
    "\n",
    "#2. an ndarray of all ones\n",
    "one = np.ones(k)\n",
    "\n",
    "#3. an ndarray of random elements (this one is standard normal, but there are many distributions to choose from)\n",
    "rand = np.random.randn(k)\n",
    "\n",
    "[zero, one, rand]"
   ]
  },
  {
   "cell_type": "code",
   "execution_count": 4,
   "metadata": {},
   "outputs": [
    {
     "data": {
      "text/plain": [
       "'\\nFor indexing an array:\\n1. If nx1 array, follow the same protocol as a regular Python list\\n2. If nxm array use the following examples\\n'"
      ]
     },
     "execution_count": 4,
     "metadata": {},
     "output_type": "execute_result"
    },
    {
     "data": {
      "text/plain": [
       "[array([[ 1.02082369, -0.15829085],\n",
       "        [ 2.7544271 , -0.34220139],\n",
       "        [-0.53029324, -0.86516232],\n",
       "        [ 1.41737221,  0.53384494]]),\n",
       " array([ 2.7544271 , -0.34220139]),\n",
       " -0.3422013905576185]"
      ]
     },
     "execution_count": 4,
     "metadata": {},
     "output_type": "execute_result"
    }
   ],
   "source": [
    "'''\n",
    "For indexing an array:\n",
    "1. If nx1 array, follow the same protocol as a regular Python list\n",
    "2. If nxm array use the following examples\n",
    "'''\n",
    "\n",
    "arr2d = np.random.randn(4,2)\n",
    "\n",
    "#A single index gets a full row\n",
    "\n",
    "#2 indexes returns a value\n",
    "[arr2d, arr2d[1],  arr2d[1,1]]"
   ]
  },
  {
   "cell_type": "code",
   "execution_count": 5,
   "metadata": {},
   "outputs": [
    {
     "data": {
      "text/plain": [
       "'\\nOperations between Arrays and Scalars\\nAn important feature of ndarrays is they allow batch operations on data without writing any for loops.  \\nThis is called vectorization.\\nAny arithmetic operations between equal-size arrays applies the operation elementwise. \\n'"
      ]
     },
     "execution_count": 5,
     "metadata": {},
     "output_type": "execute_result"
    },
    {
     "data": {
      "text/plain": [
       "[array([-0.89068057,  0.3572793 , -0.05258321,  0.93493326]),\n",
       " array([-1.78136113,  0.71455859, -0.10516642,  1.86986651]),\n",
       " array([-1.78136113,  0.71455859, -0.10516642,  1.86986651]),\n",
       " array([-0.,  0., -0.,  0.])]"
      ]
     },
     "execution_count": 5,
     "metadata": {},
     "output_type": "execute_result"
    }
   ],
   "source": [
    "'''\n",
    "Operations between Arrays and Scalars\n",
    "An important feature of ndarrays is they allow batch operations on data without writing any for loops.  \n",
    "This is called vectorization.\n",
    "Any arithmetic operations between equal-size arrays applies the operation elementwise. \n",
    "'''\n",
    "\n",
    "#examples\n",
    "\n",
    "k = 4\n",
    "rand = np.random.randn(k)\n",
    "[rand, rand + rand, 2*rand, rand*np.zeros(4)]\n",
    "\n"
   ]
  },
  {
   "cell_type": "code",
   "execution_count": 6,
   "metadata": {},
   "outputs": [
    {
     "data": {
      "text/plain": [
       "\"\\nMatrix operations\\nIt is easy to do matrix operations with Nd arrays. The standard arithmetic operators don't work here though. And it is important \\nto make sure matrix shapes are compatible\\n\""
      ]
     },
     "execution_count": 6,
     "metadata": {},
     "output_type": "execute_result"
    },
    {
     "data": {
      "text/plain": [
       "[array([ 1.41694123, -0.65395022, -0.31121251]),\n",
       " array([-1.13502859e-03,  1.31248580e+00,  1.71875645e+00]),\n",
       " array([1.4158062 , 0.65853559, 1.40754394])]"
      ]
     },
     "execution_count": 6,
     "metadata": {},
     "output_type": "execute_result"
    }
   ],
   "source": [
    "'''\n",
    "Matrix operations\n",
    "It is easy to do matrix operations with Nd arrays. The standard arithmetic operators don't work here though. And it is important \n",
    "to make sure matrix shapes are compatible\n",
    "'''\n",
    "\n",
    "k = 3\n",
    "r1 = np.random.randn(k)\n",
    "r2 = np.random.randn(k)\n",
    "\n",
    "#Matrix addition is the standard matrix operator\n",
    "[r1, r2 , r1 + r2]\n"
   ]
  },
  {
   "cell_type": "code",
   "execution_count": 7,
   "metadata": {},
   "outputs": [
    {
     "data": {
      "text/plain": [
       "[array([[ 1.41694123e+00, -6.53950216e-01, -3.11212511e-01],\n",
       "        [-1.13502859e-03,  1.31248580e+00,  1.71875645e+00]]),\n",
       " array([[ 1.41694123e+00, -1.13502859e-03],\n",
       "        [-6.53950216e-01,  1.31248580e+00],\n",
       "        [-3.11212511e-01,  1.71875645e+00]])]"
      ]
     },
     "execution_count": 7,
     "metadata": {},
     "output_type": "execute_result"
    }
   ],
   "source": [
    "#The Transpose can be taken with the attribute T\n",
    "arr2d = np.array([r1, r2])\n",
    "[arr2d, arr2d.T]"
   ]
  },
  {
   "cell_type": "code",
   "execution_count": 8,
   "metadata": {},
   "outputs": [
    {
     "data": {
      "text/plain": [
       "'\\nMatrix multiplication, like inner products can be done on arrays.\\nJust remember that the standard multiplication operator does elementwise multiplication (provided they are the same shape).\\nWe need the dot method in order to do an inner product\\n\\nNumpy has a linalg library that can run most matrix operations on ndarrays:\\nhttp://docs.scipy.org/doc/numpy/reference/routines.linalg.html\\n\\nOne can also create a matrix object and use the methods in numpy.matrix to achieve the same thing:\\nhttp://docs.scipy.org/doc/numpy/reference/generated/numpy.matrix.html\\n'"
      ]
     },
     "execution_count": 8,
     "metadata": {},
     "output_type": "execute_result"
    },
    {
     "data": {
      "text/plain": [
       "[array([[ 1.41694123e+00, -6.53950216e-01, -3.11212511e-01],\n",
       "        [-1.13502859e-03,  1.31248580e+00,  1.71875645e+00]]),\n",
       " array([[2.00772244e+00, 4.27650886e-01, 9.68532272e-02],\n",
       "        [1.28828991e-06, 1.72261899e+00, 2.95412374e+00]]),\n",
       " array([[ 2.53222655, -1.39480716],\n",
       "        [-1.39480716,  4.67674401]])]"
      ]
     },
     "execution_count": 8,
     "metadata": {},
     "output_type": "execute_result"
    }
   ],
   "source": [
    "'''\n",
    "Matrix multiplication, like inner products can be done on arrays.\n",
    "Just remember that the standard multiplication operator does elementwise multiplication (provided they are the same shape).\n",
    "We need the dot method in order to do an inner product\n",
    "\n",
    "Numpy has a linalg library that can run most matrix operations on ndarrays:\n",
    "http://docs.scipy.org/doc/numpy/reference/routines.linalg.html\n",
    "\n",
    "One can also create a matrix object and use the methods in numpy.matrix to achieve the same thing:\n",
    "http://docs.scipy.org/doc/numpy/reference/generated/numpy.matrix.html\n",
    "'''\n",
    "\n",
    "[arr2d, arr2d * arr2d, arr2d.dot(arr2d.T)]\n"
   ]
  },
  {
   "cell_type": "code",
   "execution_count": 9,
   "metadata": {},
   "outputs": [
    {
     "data": {
      "text/plain": [
       "'\\nOne important feature of vectorization is that it allows elementwise processing that is much faster than writing a traditional\\nloop.\\n'"
      ]
     },
     "execution_count": 9,
     "metadata": {},
     "output_type": "execute_result"
    },
    {
     "name": "stdout",
     "output_type": "stream",
     "text": [
      "77 µs ± 3.47 µs per loop (mean ± std. dev. of 7 runs, 10000 loops each)\n"
     ]
    }
   ],
   "source": [
    "'''\n",
    "One important feature of vectorization is that it allows elementwise processing that is much faster than writing a traditional\n",
    "loop.\n",
    "'''\n",
    "import math\n",
    "\n",
    "#show an example and profile i\n",
    "%timeit [math.sqrt(x) for x in range(1000)]"
   ]
  },
  {
   "cell_type": "code",
   "execution_count": 10,
   "metadata": {},
   "outputs": [
    {
     "name": "stdout",
     "output_type": "stream",
     "text": [
      "2.81 µs ± 98.4 ns per loop (mean ± std. dev. of 7 runs, 100000 loops each)\n"
     ]
    }
   ],
   "source": [
    "%timeit np.sqrt(np.arange(1000))"
   ]
  },
  {
   "cell_type": "code",
   "execution_count": null,
   "metadata": {
    "collapsed": true
   },
   "outputs": [],
   "source": []
  },
  {
   "cell_type": "code",
   "execution_count": 11,
   "metadata": {},
   "outputs": [
    {
     "data": {
      "text/plain": [
       "\"\\nThe last thing we'll cover in this module is the numpy.random library. In general, it is advised to use numpy for\\nrandom number generation as opposed to python's built in random module.\\n\\nRandom number generation has many uses. One common use is generating fake (i.e. random) data to test modeling procedures\\nor to do Monte Carlo Simulations\\n\""
      ]
     },
     "execution_count": 11,
     "metadata": {},
     "output_type": "execute_result"
    }
   ],
   "source": [
    "'''\n",
    "The last thing we'll cover in this module is the numpy.random library. In general, it is advised to use numpy for\n",
    "random number generation as opposed to python's built in random module.\n",
    "\n",
    "Random number generation has many uses. One common use is generating fake (i.e. random) data to test modeling procedures\n",
    "or to do Monte Carlo Simulations\n",
    "'''\n",
    "import matplotlib.pyplot as plt\n",
    "%matplotlib inline\n"
   ]
  },
  {
   "cell_type": "code",
   "execution_count": 12,
   "metadata": {},
   "outputs": [],
   "source": [
    "\n",
    "\n",
    "#Generate random pairs that have a multivariate normal distribution\n",
    "N = 1000\n",
    "mu = np.array([0,0])\n",
    "cov = 0.5\n",
    "sig = np.array([[1, cov],[cov, 1]]) #Must be square, symmetric and non-negative definite"
   ]
  },
  {
   "cell_type": "code",
   "execution_count": 13,
   "metadata": {},
   "outputs": [],
   "source": [
    "x, y = np.random.multivariate_normal(mu, sig, N).T"
   ]
  },
  {
   "cell_type": "code",
   "execution_count": 14,
   "metadata": {},
   "outputs": [
    {
     "data": {
      "text/plain": [
       "[<matplotlib.lines.Line2D at 0x7f9c4805f820>]"
      ]
     },
     "execution_count": 14,
     "metadata": {},
     "output_type": "execute_result"
    },
    {
     "data": {
      "text/plain": [
       "(-3.924419857002306,\n",
       " 3.4300285500779064,\n",
       " -3.2546315277958753,\n",
       " 3.6239066321245437)"
      ]
     },
     "execution_count": 14,
     "metadata": {},
     "output_type": "execute_result"
    },
    {
     "data": {
      "image/png": "[encoded data removed]",
      "text/plain": [
       "<Figure size 432x288 with 1 Axes>"
      ]
     },
     "metadata": {
      "needs_background": "light"
     },
     "output_type": "display_data"
    }
   ],
   "source": [
    "\n",
    "#Now let's plot and see what that looks like\n",
    "\n",
    "\n",
    "plt.plot(x, y,'.') \n",
    "plt.axis('equal') \n",
    "plt.show()\n",
    "\n"
   ]
  },
  {
   "cell_type": "code",
   "execution_count": 15,
   "metadata": {},
   "outputs": [
    {
     "data": {
      "text/plain": [
       "\"\\nOne final example (taken from Wes Mckinney's book):\\n\\nLet's generate a random walk and visualize it\\n\""
      ]
     },
     "execution_count": 15,
     "metadata": {},
     "output_type": "execute_result"
    },
    {
     "data": {
      "text/plain": [
       "[<matplotlib.lines.Line2D at 0x7f9c985900a0>]"
      ]
     },
     "execution_count": 15,
     "metadata": {},
     "output_type": "execute_result"
    },
    {
     "data": {
      "image/png": "[encoded data removed]",
      "text/plain": [
       "<Figure size 432x288 with 1 Axes>"
      ]
     },
     "metadata": {
      "needs_background": "light"
     },
     "output_type": "display_data"
    }
   ],
   "source": [
    "'''\n",
    "One final example (taken from Wes Mckinney's book):\n",
    "\n",
    "Let's generate a random walk and visualize it\n",
    "'''\n",
    "\n",
    "nsteps = 1000\n",
    "draws = np.random.randint(0, 2, size = nsteps) #Randint let's us generate random integers in a range\n",
    "steps = np.where(draws > 0, 1, -1) #there function let's us do boolean logic on a conditional applied to an entire array\n",
    "walk = steps.cumsum() #Cumsum returns an array with the same size as steps, that has cum sum of steps up to index i\n",
    "plt.plot(np.arange(len(walk)), walk)\n",
    "plt.show()"
   ]
  },
  {
   "cell_type": "code",
   "execution_count": 30,
   "metadata": {},
   "outputs": [],
   "source": []
  },
  {
   "cell_type": "code",
   "execution_count": null,
   "metadata": {},
   "outputs": [],
   "source": []
  }
 ],
 "metadata": {
  "kernelspec": {
   "display_name": "Python 3",
   "language": "python",
   "name": "python3"
  },
  "language_info": {
   "codemirror_mode": {
    "name": "ipython",
    "version": 3
   },
   "file_extension": ".py",
   "mimetype": "text/x-python",
   "name": "python",
   "nbconvert_exporter": "python",
   "pygments_lexer": "ipython3",
   "version": "3.8.3"
  }
 },
 "nbformat": 4,
 "nbformat_minor": 1
}
